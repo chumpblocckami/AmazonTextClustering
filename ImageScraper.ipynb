{
  "nbformat": 4,
  "nbformat_minor": 0,
  "metadata": {
    "colab": {
      "name": "ImageScraper.ipynb",
      "provenance": [],
      "collapsed_sections": [],
      "authorship_tag": "ABX9TyNSBkB5Pd7J8Lc5g4yzngRk",
      "include_colab_link": true
    },
    "kernelspec": {
      "name": "python3",
      "display_name": "Python 3"
    }
  },
  "cells": [
    {
      "cell_type": "markdown",
      "metadata": {
        "id": "view-in-github",
        "colab_type": "text"
      },
      "source": [
        "<a href=\"https://colab.research.google.com/github/chumpblocckami/AmazonTextClustering/blob/master/ImageScraper.ipynb\" target=\"_parent\"><img src=\"https://colab.research.google.com/assets/colab-badge.svg\" alt=\"Open In Colab\"/></a>"
      ]
    },
    {
      "cell_type": "code",
      "metadata": {
        "id": "RE49SoNpcFTM",
        "colab_type": "code",
        "colab": {
          "base_uri": "https://localhost:8080/",
          "height": 33
        },
        "outputId": "52c0bbc2-d0da-46fb-987d-dae4fe144562"
      },
      "source": [
        "from google.colab import drive\n",
        "drive.mount('/content/drive')"
      ],
      "execution_count": 1,
      "outputs": [
        {
          "output_type": "stream",
          "text": [
            "Drive already mounted at /content/drive; to attempt to forcibly remount, call drive.mount(\"/content/drive\", force_remount=True).\n"
          ],
          "name": "stdout"
        }
      ]
    },
    {
      "cell_type": "markdown",
      "metadata": {
        "id": "aQJSf5OwvP9E",
        "colab_type": "text"
      },
      "source": [
        "# Scraper su scryfall"
      ]
    },
    {
      "cell_type": "code",
      "metadata": {
        "id": "XZNnXUbTr2P9",
        "colab_type": "code",
        "colab": {}
      },
      "source": [
        "from bs4 import BeautifulSoup\n",
        "import requests \n",
        "import time \n",
        "import pandas as pd\n",
        "import random\n",
        "import shutil\n",
        "import json"
      ],
      "execution_count": 0,
      "outputs": []
    },
    {
      "cell_type": "code",
      "metadata": {
        "id": "wEBUm0OltYkf",
        "colab_type": "code",
        "colab": {}
      },
      "source": [
        "def getAPI(link = \"https://scryfall.com/sitemap.xml\"):\n",
        "  xml = requests.get(link).text\n",
        "  links = xml.split(\"<url>\")\n",
        "  print(\"Raw links:\",len(links))\n",
        "  card_links_raw = [x for x in links if \"card\" in x]\n",
        "  print(\"Links to cards:\",len(card_links_raw))\n",
        "  #preprocessing: it's an xml file, with 2 steps we process it as a list of links\n",
        "  card_links = [x.replace(\"</loc>\",\"\").replace(\"<loc>\",\"\").replace(\"</url>\",\"\").replace(\"\\n\",\"\") for x in card_links_raw]\n",
        "  api_raw = [x.replace(\"//\",\"//api.\") for x in card_links][19:] #useless links\n",
        "  api = [\"/\".join(x.split(\"/\")[:3])+search+str(x.split(\"/\")[-1]) for x in api_raw] #get links ready for API\n",
        "  return api"
      ],
      "execution_count": 0,
      "outputs": []
    },
    {
      "cell_type": "code",
      "metadata": {
        "id": "-_X1S8bP6eN1",
        "colab_type": "code",
        "colab": {}
      },
      "source": [
        "def getImages(link,path=\"\"):\n",
        "  try:\n",
        "    x = requests.get(link).text\n",
        "    y = json.loads(x)\n",
        "    images = pd.DataFrame(dict(pd.DataFrame(y[\"data\"])[\"image_uris\"]))[0].tolist()\n",
        "    c = 0\n",
        "    for i in images:\n",
        "      response = requests.get(i, stream=True)\n",
        "      name = link.split(\"?q=\")[1] + str(c) + '.png'\n",
        "      with open(path+name, 'wb') as out_file:\n",
        "          shutil.copyfileobj(response.raw, out_file)\n",
        "      del response\n",
        "      c = c+1\n",
        "  except:\n",
        "   print(\"Download of {0} failed! Retry\".format(link))"
      ],
      "execution_count": 0,
      "outputs": []
    },
    {
      "cell_type": "code",
      "metadata": {
        "id": "RbeuucXn7vmS",
        "colab_type": "code",
        "colab": {}
      },
      "source": [
        "apis = getAPI()\n",
        "c = 0\n",
        "for i in apis:\n",
        "  getImages(i,path=\"drive/My Drive/mtgDataset/images/\")\n",
        "  time.sleep(1)\n",
        "  c +1\n",
        "  if(c%1000):\n",
        "    print(\"Downloaded {0} cards! {1} to go...\".format(c,len(apis)-c))"
      ],
      "execution_count": 0,
      "outputs": []
    },
    {
      "cell_type": "markdown",
      "metadata": {
        "id": "oZN7Tf8Tlc6_",
        "colab_type": "text"
      },
      "source": [
        "COSE DA FINIRE: \n",
        "  - BISOGNA CAPIRE COME METTERE LE VARIE CARTE DENTRO AI VARI FOLDER\n",
        "  - ALCUNE CARTE 'SPECIALI' COME TOKENS O ALTRO NON LE PRENDE (skippiamo)"
      ]
    }
  ]
}